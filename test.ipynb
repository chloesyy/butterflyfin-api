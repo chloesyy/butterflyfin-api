{
 "cells": [
  {
   "cell_type": "code",
   "execution_count": 2,
   "id": "32c7fe8b",
   "metadata": {},
   "outputs": [],
   "source": [
    "import requests\n",
    "\n",
    "BASE_URL = \"http://localhost:8000\""
   ]
  },
  {
   "cell_type": "markdown",
   "id": "4260f035",
   "metadata": {},
   "source": [
    "# Home endpoint"
   ]
  },
  {
   "cell_type": "code",
   "execution_count": 5,
   "id": "60ffd097",
   "metadata": {},
   "outputs": [
    {
     "name": "stdout",
     "output_type": "stream",
     "text": [
      "{'message': 'Hello, World!'}\n"
     ]
    }
   ],
   "source": [
    "response = requests.get(f\"{BASE_URL}/\")\n",
    "print(response.json())"
   ]
  },
  {
   "cell_type": "markdown",
   "id": "22842dc1",
   "metadata": {},
   "source": [
    "# Transaction Endpoint"
   ]
  },
  {
   "cell_type": "code",
   "execution_count": 56,
   "id": "a642c891",
   "metadata": {},
   "outputs": [
    {
     "name": "stdout",
     "output_type": "stream",
     "text": [
      "{'message': 'Transaction added successfully!'}\n"
     ]
    }
   ],
   "source": [
    "payload = {\n",
    "    \"name\": \"Breakfast\",\n",
    "    \"amount\": 50.75,\n",
    "    \"date\": \"2023-10-01\",\n",
    "    \"category\": \"Food\"\n",
    "}\n",
    "response = requests.post(\n",
    "    url=f\"{BASE_URL}/add-transaction\",\n",
    "    json=payload\n",
    ")\n",
    "print(response.json())"
   ]
  },
  {
   "cell_type": "markdown",
   "id": "bc74b83f",
   "metadata": {},
   "source": [
    "# Category Endpoint"
   ]
  },
  {
   "cell_type": "code",
   "execution_count": 54,
   "id": "5a24fb6e",
   "metadata": {},
   "outputs": [
    {
     "name": "stdout",
     "output_type": "stream",
     "text": [
      "{'message': 'Category added successfully!'}\n"
     ]
    }
   ],
   "source": [
    "payload = {\n",
    "    \"name\": \"Food\"\n",
    "}\n",
    "response = requests.post(\n",
    "    url=f\"{BASE_URL}/add-category\",\n",
    "    json=payload\n",
    ")\n",
    "print(response.json())"
   ]
  },
  {
   "cell_type": "markdown",
   "id": "0b4363af",
   "metadata": {},
   "source": [
    "# Delete Endpoint"
   ]
  },
  {
   "cell_type": "code",
   "execution_count": 50,
   "id": "9659759c",
   "metadata": {},
   "outputs": [
    {
     "name": "stdout",
     "output_type": "stream",
     "text": [
      "{'message': 'Deleted successfully!'}\n"
     ]
    }
   ],
   "source": [
    "payload = {\n",
    "    \"table\": \"categories\",\n",
    "    \"id\": 2\n",
    "}\n",
    "response = requests.post(\n",
    "    url=f\"{BASE_URL}/delete\",\n",
    "    json=payload\n",
    ")\n",
    "print(response.json())"
   ]
  }
 ],
 "metadata": {
  "kernelspec": {
   "display_name": ".venv",
   "language": "python",
   "name": "python3"
  },
  "language_info": {
   "codemirror_mode": {
    "name": "ipython",
    "version": 3
   },
   "file_extension": ".py",
   "mimetype": "text/x-python",
   "name": "python",
   "nbconvert_exporter": "python",
   "pygments_lexer": "ipython3",
   "version": "3.10.9"
  }
 },
 "nbformat": 4,
 "nbformat_minor": 5
}
