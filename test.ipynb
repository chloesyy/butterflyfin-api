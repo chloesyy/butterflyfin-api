{
 "cells": [
  {
   "cell_type": "code",
   "execution_count": 2,
   "id": "32c7fe8b",
   "metadata": {},
   "outputs": [],
   "source": [
    "import requests\n",
    "\n",
    "BASE_URL = \"http://localhost:8000\""
   ]
  },
  {
   "cell_type": "markdown",
   "id": "4260f035",
   "metadata": {},
   "source": [
    "# Home endpoint"
   ]
  },
  {
   "cell_type": "code",
   "execution_count": 5,
   "id": "60ffd097",
   "metadata": {},
   "outputs": [
    {
     "name": "stdout",
     "output_type": "stream",
     "text": [
      "{'message': 'Hello, World!'}\n"
     ]
    }
   ],
   "source": [
    "response = requests.get(f\"{BASE_URL}/\")\n",
    "print(response.json())"
   ]
  },
  {
   "cell_type": "markdown",
   "id": "0c668415",
   "metadata": {},
   "source": [
    "# Bank Endpoint"
   ]
  },
  {
   "cell_type": "code",
   "execution_count": 68,
   "id": "fbe0ba5c",
   "metadata": {},
   "outputs": [
    {
     "name": "stdout",
     "output_type": "stream",
     "text": [
      "{'message': 'Bank added successfully!'}\n"
     ]
    }
   ],
   "source": [
    "payload = {\n",
    "    \"name\": \"DBS\",\n",
    "    \"country\": \"SG\",\n",
    "}\n",
    "response = requests.post(\n",
    "    url=f\"{BASE_URL}/add-bank\",\n",
    "    json=payload\n",
    ")\n",
    "print(response.json())"
   ]
  },
  {
   "cell_type": "markdown",
   "id": "4c9c54e8",
   "metadata": {},
   "source": [
    "# Account Endpoint"
   ]
  },
  {
   "cell_type": "code",
   "execution_count": 71,
   "id": "1cf55525",
   "metadata": {},
   "outputs": [
    {
     "name": "stdout",
     "output_type": "stream",
     "text": [
      "{'message': 'Account added successfully!'}\n"
     ]
    }
   ],
   "source": [
    "payload = {\n",
    "    \"name\": \"DBS Multiplier\",\n",
    "    \"account_type\": \"savings\",\n",
    "    \"balance\": 1000.0,\n",
    "    \"bank\": \"DBS\"\n",
    "}\n",
    "response = requests.post(\n",
    "    url=f\"{BASE_URL}/add-account\",\n",
    "    json=payload\n",
    ")\n",
    "print(response.json())"
   ]
  },
  {
   "cell_type": "markdown",
   "id": "bc74b83f",
   "metadata": {},
   "source": [
    "# Category Endpoint"
   ]
  },
  {
   "cell_type": "code",
   "execution_count": 73,
   "id": "5a24fb6e",
   "metadata": {},
   "outputs": [
    {
     "name": "stdout",
     "output_type": "stream",
     "text": [
      "{'detail': \"Category 'Food' already exists.\"}\n"
     ]
    }
   ],
   "source": [
    "payload = {\n",
    "    \"name\": \"Food\"\n",
    "}\n",
    "response = requests.post(\n",
    "    url=f\"{BASE_URL}/add-category\",\n",
    "    json=payload\n",
    ")\n",
    "print(response.json())"
   ]
  },
  {
   "cell_type": "markdown",
   "id": "22842dc1",
   "metadata": {},
   "source": [
    "# Transaction Endpoint"
   ]
  },
  {
   "cell_type": "code",
   "execution_count": 75,
   "id": "a642c891",
   "metadata": {},
   "outputs": [
    {
     "name": "stdout",
     "output_type": "stream",
     "text": [
      "{'message': 'Transaction added successfully!'}\n"
     ]
    }
   ],
   "source": [
    "payload = {\n",
    "    \"name\": \"Dinner\",\n",
    "    \"amount\": 50.75,\n",
    "    \"date\": \"2023-10-01\",\n",
    "    \"category\": \"Food\",\n",
    "    \"account\": \"DBS Multiplier\"\n",
    "}\n",
    "response = requests.post(\n",
    "    url=f\"{BASE_URL}/add-transaction\",\n",
    "    json=payload\n",
    ")\n",
    "print(response.json())"
   ]
  },
  {
   "cell_type": "markdown",
   "id": "0b4363af",
   "metadata": {},
   "source": [
    "# Delete Endpoint"
   ]
  },
  {
   "cell_type": "code",
   "execution_count": 65,
   "id": "9659759c",
   "metadata": {},
   "outputs": [
    {
     "name": "stdout",
     "output_type": "stream",
     "text": [
      "{'detail': \"ID '1' does not exist in accounts.\"}\n"
     ]
    }
   ],
   "source": [
    "payload = {\n",
    "    \"table\": \"accounts\",\n",
    "    \"id\": 1\n",
    "}\n",
    "response = requests.post(\n",
    "    url=f\"{BASE_URL}/delete\",\n",
    "    json=payload\n",
    ")\n",
    "print(response.json())"
   ]
  },
  {
   "cell_type": "code",
   "execution_count": null,
   "id": "e935dcfa",
   "metadata": {},
   "outputs": [],
   "source": []
  }
 ],
 "metadata": {
  "kernelspec": {
   "display_name": ".venv",
   "language": "python",
   "name": "python3"
  },
  "language_info": {
   "codemirror_mode": {
    "name": "ipython",
    "version": 3
   },
   "file_extension": ".py",
   "mimetype": "text/x-python",
   "name": "python",
   "nbconvert_exporter": "python",
   "pygments_lexer": "ipython3",
   "version": "3.10.9"
  }
 },
 "nbformat": 4,
 "nbformat_minor": 5
}
