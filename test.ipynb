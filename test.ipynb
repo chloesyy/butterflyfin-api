{
 "cells": [
  {
   "cell_type": "code",
   "execution_count": 2,
   "id": "32c7fe8b",
   "metadata": {},
   "outputs": [],
   "source": [
    "import requests\n",
    "\n",
    "BASE_URL = \"http://localhost:8000\""
   ]
  },
  {
   "cell_type": "markdown",
   "id": "4260f035",
   "metadata": {},
   "source": [
    "# Home endpoint"
   ]
  },
  {
   "cell_type": "code",
   "execution_count": 5,
   "id": "60ffd097",
   "metadata": {},
   "outputs": [
    {
     "name": "stdout",
     "output_type": "stream",
     "text": [
      "{'message': 'Hello, World!'}\n"
     ]
    }
   ],
   "source": [
    "response = requests.get(f\"{BASE_URL}/\")\n",
    "print(response.json())"
   ]
  },
  {
   "cell_type": "markdown",
   "id": "13b9411c",
   "metadata": {},
   "source": [
    "# Views Endpoint"
   ]
  },
  {
   "cell_type": "markdown",
   "id": "3b68ae4b",
   "metadata": {},
   "source": [
    "## Networth Endpoint"
   ]
  },
  {
   "cell_type": "code",
   "execution_count": 105,
   "id": "9fb0e86f",
   "metadata": {},
   "outputs": [
    {
     "name": "stdout",
     "output_type": "stream",
     "text": [
      "{'total_net_worth': 2746.25, 'type_breakdown': {'Savings': 2746.25}}\n"
     ]
    }
   ],
   "source": [
    "response = requests.get(f\"{BASE_URL}/networth\")\n",
    "print(response.json())"
   ]
  },
  {
   "cell_type": "markdown",
   "id": "0c668415",
   "metadata": {},
   "source": [
    "# Database Endpoint"
   ]
  },
  {
   "cell_type": "markdown",
   "id": "16e9fa1a",
   "metadata": {},
   "source": [
    "## Bank Endpoint"
   ]
  },
  {
   "cell_type": "code",
   "execution_count": 68,
   "id": "fbe0ba5c",
   "metadata": {},
   "outputs": [
    {
     "name": "stdout",
     "output_type": "stream",
     "text": [
      "{'message': 'Bank added successfully!'}\n"
     ]
    }
   ],
   "source": [
    "payload = {\n",
    "    \"name\": \"DBS\",\n",
    "    \"country\": \"SG\",\n",
    "}\n",
    "response = requests.post(\n",
    "    url=f\"{BASE_URL}/add-bank\",\n",
    "    json=payload\n",
    ")\n",
    "print(response.json())"
   ]
  },
  {
   "cell_type": "markdown",
   "id": "4c9c54e8",
   "metadata": {},
   "source": [
    "## Account Endpoint"
   ]
  },
  {
   "cell_type": "code",
   "execution_count": 81,
   "id": "1cf55525",
   "metadata": {},
   "outputs": [
    {
     "name": "stdout",
     "output_type": "stream",
     "text": [
      "{'message': 'Account added successfully!'}\n"
     ]
    }
   ],
   "source": [
    "payload = {\n",
    "    \"name\": \"DBS Multiplier\",\n",
    "    \"account_type\": \"savings\",\n",
    "    \"initial_balance\": 1000.0,\n",
    "    \"bank\": \"DBS\",\n",
    "}\n",
    "response = requests.post(\n",
    "    url=f\"{BASE_URL}/add-account\",\n",
    "    json=payload\n",
    ")\n",
    "print(response.json())"
   ]
  },
  {
   "cell_type": "markdown",
   "id": "bc74b83f",
   "metadata": {},
   "source": [
    "## Category Endpoint"
   ]
  },
  {
   "cell_type": "code",
   "execution_count": 89,
   "id": "5a24fb6e",
   "metadata": {},
   "outputs": [
    {
     "name": "stdout",
     "output_type": "stream",
     "text": [
      "{'message': 'Category added successfully!'}\n"
     ]
    }
   ],
   "source": [
    "payload = {\n",
    "    \"name\": \"Salary\"\n",
    "}\n",
    "response = requests.post(\n",
    "    url=f\"{BASE_URL}/add-category\",\n",
    "    json=payload\n",
    ")\n",
    "print(response.json())"
   ]
  },
  {
   "cell_type": "markdown",
   "id": "22842dc1",
   "metadata": {},
   "source": [
    "## Transaction Endpoint"
   ]
  },
  {
   "cell_type": "code",
   "execution_count": 91,
   "id": "a642c891",
   "metadata": {},
   "outputs": [
    {
     "name": "stdout",
     "output_type": "stream",
     "text": [
      "{'message': 'Transaction added successfully!'}\n"
     ]
    }
   ],
   "source": [
    "payload = {\n",
    "    \"name\": \"Dinner\",\n",
    "    \"transaction_type\": \"expense\",\n",
    "    \"amount\": 50.75,\n",
    "    \"date\": \"2023-10-01\",\n",
    "    \"category\": \"Food\",\n",
    "    \"account\": \"DBS Multiplier\"\n",
    "}\n",
    "response = requests.post(\n",
    "    url=f\"{BASE_URL}/add-transaction\",\n",
    "    json=payload\n",
    ")\n",
    "print(response.json())"
   ]
  },
  {
   "cell_type": "code",
   "execution_count": 90,
   "id": "3da55b5f",
   "metadata": {},
   "outputs": [
    {
     "name": "stdout",
     "output_type": "stream",
     "text": [
      "{'message': 'Transaction added successfully!'}\n"
     ]
    }
   ],
   "source": [
    "payload = {\n",
    "    \"name\": \"Salary\",\n",
    "    \"transaction_type\": \"income\",\n",
    "    \"amount\": 2000,\n",
    "    \"date\": \"2023-10-01\",\n",
    "    \"category\": \"Salary\",\n",
    "    \"account\": \"DBS Multiplier\"\n",
    "}\n",
    "response = requests.post(\n",
    "    url=f\"{BASE_URL}/add-transaction\",\n",
    "    json=payload\n",
    ")\n",
    "print(response.json())"
   ]
  },
  {
   "cell_type": "markdown",
   "id": "0b4363af",
   "metadata": {},
   "source": [
    "## Delete Endpoint"
   ]
  },
  {
   "cell_type": "code",
   "execution_count": 104,
   "id": "9659759c",
   "metadata": {},
   "outputs": [
    {
     "name": "stdout",
     "output_type": "stream",
     "text": [
      "{'message': 'Deleted successfully!'}\n"
     ]
    }
   ],
   "source": [
    "payload = {\n",
    "    \"table\": \"transactions\",\n",
    "    \"id\": 13\n",
    "}\n",
    "response = requests.post(\n",
    "    url=f\"{BASE_URL}/delete\",\n",
    "    json=payload\n",
    ")\n",
    "print(response.json())"
   ]
  },
  {
   "cell_type": "code",
   "execution_count": null,
   "id": "e935dcfa",
   "metadata": {},
   "outputs": [],
   "source": []
  }
 ],
 "metadata": {
  "kernelspec": {
   "display_name": ".venv",
   "language": "python",
   "name": "python3"
  },
  "language_info": {
   "codemirror_mode": {
    "name": "ipython",
    "version": 3
   },
   "file_extension": ".py",
   "mimetype": "text/x-python",
   "name": "python",
   "nbconvert_exporter": "python",
   "pygments_lexer": "ipython3",
   "version": "3.10.9"
  }
 },
 "nbformat": 4,
 "nbformat_minor": 5
}
