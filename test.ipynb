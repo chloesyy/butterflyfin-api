{
 "cells": [
  {
   "cell_type": "code",
   "execution_count": 150,
   "id": "32c7fe8b",
   "metadata": {},
   "outputs": [],
   "source": [
    "import json\n",
    "import requests\n",
    "\n",
    "BASE_URL = \"http://localhost:8000\""
   ]
  },
  {
   "cell_type": "markdown",
   "id": "13b9411c",
   "metadata": {},
   "source": [
    "# Views Endpoint"
   ]
  },
  {
   "cell_type": "markdown",
   "id": "3b68ae4b",
   "metadata": {},
   "source": [
    "## Networth Endpoint"
   ]
  },
  {
   "cell_type": "code",
   "execution_count": 140,
   "id": "9fb0e86f",
   "metadata": {},
   "outputs": [
    {
     "name": "stdout",
     "output_type": "stream",
     "text": [
      "{'total_net_worth': 898.5, 'type_breakdown': {'savings': 898.5}}\n"
     ]
    }
   ],
   "source": [
    "response = requests.get(f\"{BASE_URL}/networth\")\n",
    "print(response.json())"
   ]
  },
  {
   "cell_type": "markdown",
   "id": "0c668415",
   "metadata": {},
   "source": [
    "# Database Endpoint"
   ]
  },
  {
   "cell_type": "markdown",
   "id": "7716049e",
   "metadata": {},
   "source": [
    "## Account Endpoint"
   ]
  },
  {
   "cell_type": "markdown",
   "id": "7dd0a95c",
   "metadata": {},
   "source": [
    "### Add"
   ]
  },
  {
   "cell_type": "code",
   "execution_count": 177,
   "id": "1cf55525",
   "metadata": {},
   "outputs": [
    {
     "name": "stdout",
     "output_type": "stream",
     "text": [
      "{\n",
      "  \"added_account\": {\n",
      "    \"id\": 2,\n",
      "    \"name\": \"OCBC 365\",\n",
      "    \"bank\": \"OCBC\",\n",
      "    \"account_type\": \"Savings\",\n",
      "    \"initial_balance\": 1000.0,\n",
      "    \"balance\": 1000.0\n",
      "  }\n",
      "}\n"
     ]
    }
   ],
   "source": [
    "payload = {\n",
    "    \"task\": \"add\",\n",
    "    \"name\": \"OCBC 365\",\n",
    "    \"account_type\": \"Savings\",\n",
    "    \"initial_balance\": 1000.0,\n",
    "    \"bank\": \"OCBC\",\n",
    "}\n",
    "response = requests.post(\n",
    "    url=f\"{BASE_URL}/account\",\n",
    "    json=payload\n",
    ")\n",
    "print(json.dumps(response.json(), indent=2))"
   ]
  },
  {
   "cell_type": "code",
   "execution_count": 178,
   "id": "36a2e7a1",
   "metadata": {},
   "outputs": [
    {
     "name": "stdout",
     "output_type": "stream",
     "text": [
      "{\n",
      "  \"deleted_account\": {\n",
      "    \"id\": 2,\n",
      "    \"name\": \"OCBC 365\",\n",
      "    \"bank\": \"OCBC\",\n",
      "    \"account_type\": \"Savings\",\n",
      "    \"initial_balance\": 1000.0,\n",
      "    \"balance\": 1000.0\n",
      "  }\n",
      "}\n"
     ]
    }
   ],
   "source": [
    "payload = {\n",
    "    \"task\": \"delete\",\n",
    "    \"id\": 2\n",
    "}\n",
    "response = requests.post(\n",
    "    url=f\"{BASE_URL}/account\",\n",
    "    json=payload\n",
    ")\n",
    "print(json.dumps(response.json(), indent=2))"
   ]
  },
  {
   "cell_type": "markdown",
   "id": "16e9fa1a",
   "metadata": {},
   "source": [
    "## Bank Endpoint\n",
    "### Add"
   ]
  },
  {
   "cell_type": "code",
   "execution_count": 168,
   "id": "fbe0ba5c",
   "metadata": {},
   "outputs": [
    {
     "name": "stdout",
     "output_type": "stream",
     "text": [
      "{\n",
      "  \"added_bank\": {\n",
      "    \"id\": 5,\n",
      "    \"name\": \"Citibank\",\n",
      "    \"country\": \"SG\"\n",
      "  }\n",
      "}\n"
     ]
    }
   ],
   "source": [
    "payload = {\n",
    "    \"task\": \"add\",\n",
    "    \"name\": \"Citibank\",\n",
    "    \"country\": \"SG\",\n",
    "}\n",
    "response = requests.post(\n",
    "    url=f\"{BASE_URL}/bank\",\n",
    "    json=payload\n",
    ")\n",
    "print(json.dumps(response.json(), indent=2))"
   ]
  },
  {
   "cell_type": "markdown",
   "id": "e2295045",
   "metadata": {},
   "source": [
    "### Delete"
   ]
  },
  {
   "cell_type": "code",
   "execution_count": 170,
   "id": "2f60e6b6",
   "metadata": {},
   "outputs": [
    {
     "name": "stdout",
     "output_type": "stream",
     "text": [
      "{\n",
      "  \"deleted_bank\": {\n",
      "    \"id\": 3,\n",
      "    \"name\": \"UOB\",\n",
      "    \"country\": \"SG\"\n",
      "  }\n",
      "}\n"
     ]
    }
   ],
   "source": [
    "payload = {\n",
    "    \"task\": \"delete\",\n",
    "    \"id\": 3\n",
    "}\n",
    "response = requests.post(\n",
    "    url=f\"{BASE_URL}/bank\",\n",
    "    json=payload\n",
    ")\n",
    "print(json.dumps(response.json(), indent=2))"
   ]
  },
  {
   "cell_type": "markdown",
   "id": "bc74b83f",
   "metadata": {},
   "source": [
    "## Category Endpoint\n",
    "### Add"
   ]
  },
  {
   "cell_type": "code",
   "execution_count": 187,
   "id": "5a24fb6e",
   "metadata": {},
   "outputs": [
    {
     "name": "stdout",
     "output_type": "stream",
     "text": [
      "{\n",
      "  \"added_category\": {\n",
      "    \"id\": 5,\n",
      "    \"name\": \"Bill\"\n",
      "  }\n",
      "}\n"
     ]
    }
   ],
   "source": [
    "payload = {\n",
    "    \"task\": \"add\",\n",
    "    \"name\": \"Bill\"\n",
    "}\n",
    "response = requests.post(\n",
    "    url=f\"{BASE_URL}/category\",\n",
    "    json=payload\n",
    ")\n",
    "print(json.dumps(response.json(), indent=2))"
   ]
  },
  {
   "cell_type": "markdown",
   "id": "d71ca0b0",
   "metadata": {},
   "source": [
    "### Delete"
   ]
  },
  {
   "cell_type": "code",
   "execution_count": 182,
   "id": "6495124c",
   "metadata": {},
   "outputs": [
    {
     "name": "stdout",
     "output_type": "stream",
     "text": [
      "{\n",
      "  \"deleted_category\": {\n",
      "    \"id\": 3,\n",
      "    \"name\": \"Leisure\"\n",
      "  }\n",
      "}\n"
     ]
    }
   ],
   "source": [
    "payload = {\n",
    "    \"task\": \"delete\",\n",
    "    \"id\": 3\n",
    "}\n",
    "response = requests.post(\n",
    "    url=f\"{BASE_URL}/category\",\n",
    "    json=payload\n",
    ")\n",
    "print(json.dumps(response.json(), indent=2))"
   ]
  },
  {
   "cell_type": "markdown",
   "id": "22842dc1",
   "metadata": {},
   "source": [
    "## Transaction Endpoint"
   ]
  },
  {
   "cell_type": "markdown",
   "id": "cbdbf3ce",
   "metadata": {},
   "source": [
    "### Add Expense"
   ]
  },
  {
   "cell_type": "code",
   "execution_count": 159,
   "id": "a642c891",
   "metadata": {},
   "outputs": [
    {
     "name": "stdout",
     "output_type": "stream",
     "text": [
      "{\n",
      "  \"added_transaction\": {\n",
      "    \"id\": 3,\n",
      "    \"name\": \"Dinner\",\n",
      "    \"transaction_type\": \"Expense\",\n",
      "    \"amount\": -50.75,\n",
      "    \"date\": \"2023-10-01\",\n",
      "    \"category\": \"Food\",\n",
      "    \"account\": \"DBS Multiplier\"\n",
      "  },\n",
      "  \"new_balance\": 2746.25\n",
      "}\n"
     ]
    }
   ],
   "source": [
    "payload = {\n",
    "    \"task\": \"add\",\n",
    "    \"name\": \"Dinner\",\n",
    "    \"transaction_type\": \"Expense\",\n",
    "    \"amount\": 50.75,\n",
    "    \"date\": \"2023-10-01\",\n",
    "    \"category\": \"Food\",\n",
    "    \"account\": \"DBS Multiplier\"\n",
    "}\n",
    "response = requests.post(\n",
    "    url=f\"{BASE_URL}/transaction\",\n",
    "    json=payload\n",
    ")\n",
    "print(json.dumps(response.json(), indent=2))"
   ]
  },
  {
   "cell_type": "markdown",
   "id": "cee85161",
   "metadata": {},
   "source": [
    "### Add Income"
   ]
  },
  {
   "cell_type": "code",
   "execution_count": 160,
   "id": "3da55b5f",
   "metadata": {},
   "outputs": [
    {
     "name": "stdout",
     "output_type": "stream",
     "text": [
      "{\n",
      "  \"added_transaction\": {\n",
      "    \"id\": 4,\n",
      "    \"name\": \"Salary\",\n",
      "    \"transaction_type\": \"Income\",\n",
      "    \"amount\": 2000.0,\n",
      "    \"date\": \"2023-10-01\",\n",
      "    \"category\": \"Salary\",\n",
      "    \"account\": \"DBS Multiplier\"\n",
      "  },\n",
      "  \"new_balance\": 4746.25\n",
      "}\n"
     ]
    }
   ],
   "source": [
    "payload = {\n",
    "    \"task\": \"add\",\n",
    "    \"name\": \"Salary\",\n",
    "    \"transaction_type\": \"Income\",\n",
    "    \"amount\": 2000,\n",
    "    \"date\": \"2023-10-01\",\n",
    "    \"category\": \"Salary\",\n",
    "    \"account\": \"DBS Multiplier\"\n",
    "}\n",
    "response = requests.post(\n",
    "    url=f\"{BASE_URL}/transaction\",\n",
    "    json=payload\n",
    ")\n",
    "print(json.dumps(response.json(), indent=2))"
   ]
  },
  {
   "cell_type": "markdown",
   "id": "8f698bd6",
   "metadata": {},
   "source": [
    "### Delete"
   ]
  },
  {
   "cell_type": "code",
   "execution_count": 161,
   "id": "9659759c",
   "metadata": {},
   "outputs": [
    {
     "name": "stdout",
     "output_type": "stream",
     "text": [
      "{\n",
      "  \"deleted_transaction\": {\n",
      "    \"id\": 3,\n",
      "    \"name\": \"Dinner\",\n",
      "    \"transaction_type\": \"Expense\",\n",
      "    \"amount\": -50.75,\n",
      "    \"date\": \"2023-10-01\",\n",
      "    \"category\": \"Food\",\n",
      "    \"account\": \"DBS Multiplier\"\n",
      "  },\n",
      "  \"new_balance\": 4797.0\n",
      "}\n"
     ]
    }
   ],
   "source": [
    "payload = {\n",
    "    \"task\": \"delete\",\n",
    "    \"id\": 3\n",
    "}\n",
    "response = requests.post(\n",
    "    url=f\"{BASE_URL}/transaction\",\n",
    "    json=payload\n",
    ")\n",
    "print(json.dumps(response.json(), indent=2))"
   ]
  },
  {
   "cell_type": "markdown",
   "id": "3a509b06",
   "metadata": {},
   "source": [
    "### Create Recurring Template"
   ]
  },
  {
   "cell_type": "code",
   "execution_count": 190,
   "id": "9f9319a8",
   "metadata": {},
   "outputs": [
    {
     "name": "stdout",
     "output_type": "stream",
     "text": [
      "{\n",
      "  \"detail\": \"Recurring transaction 'GOMO' already exists.\"\n",
      "}\n"
     ]
    }
   ],
   "source": [
    "payload = {\n",
    "    \"task\": \"create_recurring_template\",\n",
    "    \"name\": \"GOMO\",\n",
    "    \"transaction_type\": \"Expense\",\n",
    "    \"amount\": 2000,\n",
    "    \"category\": \"Bill\",\n",
    "    \"account\": \"DBS Multiplier\"\n",
    "}\n",
    "response = requests.post(\n",
    "    url=f\"{BASE_URL}/transaction\",\n",
    "    json=payload\n",
    ")\n",
    "print(json.dumps(response.json(), indent=2))"
   ]
  },
  {
   "cell_type": "markdown",
   "id": "831b0582",
   "metadata": {},
   "source": [
    "### Add Recurring"
   ]
  },
  {
   "cell_type": "code",
   "execution_count": 193,
   "id": "1c039926",
   "metadata": {},
   "outputs": [
    {
     "name": "stdout",
     "output_type": "stream",
     "text": [
      "{\n",
      "  \"added_transaction\": {\n",
      "    \"id\": 6,\n",
      "    \"name\": \"Salary\",\n",
      "    \"transaction_type\": \"Income\",\n",
      "    \"amount\": 2000.0,\n",
      "    \"date\": \"2023-11-01\",\n",
      "    \"category\": \"Salary\",\n",
      "    \"account\": \"DBS Multiplier\"\n",
      "  },\n",
      "  \"new_balance\": 8797.0\n",
      "}\n"
     ]
    }
   ],
   "source": [
    "payload = {\n",
    "    \"task\": \"add_recurring\",\n",
    "    \"recurring_transaction_id\": 1,\n",
    "    \"date\": \"2023-11-01\"\n",
    "}\n",
    "response = requests.post(\n",
    "    url=f\"{BASE_URL}/transaction\",\n",
    "    json=payload\n",
    ")\n",
    "print(json.dumps(response.json(), indent=2))"
   ]
  },
  {
   "cell_type": "code",
   "execution_count": null,
   "id": "e935dcfa",
   "metadata": {},
   "outputs": [],
   "source": []
  }
 ],
 "metadata": {
  "kernelspec": {
   "display_name": ".venv",
   "language": "python",
   "name": "python3"
  },
  "language_info": {
   "codemirror_mode": {
    "name": "ipython",
    "version": 3
   },
   "file_extension": ".py",
   "mimetype": "text/x-python",
   "name": "python",
   "nbconvert_exporter": "python",
   "pygments_lexer": "ipython3",
   "version": "3.10.9"
  }
 },
 "nbformat": 4,
 "nbformat_minor": 5
}
