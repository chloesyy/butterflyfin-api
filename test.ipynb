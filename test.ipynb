{
 "cells": [
  {
   "cell_type": "code",
   "execution_count": 2,
   "id": "32c7fe8b",
   "metadata": {},
   "outputs": [],
   "source": [
    "import requests\n",
    "\n",
    "BASE_URL = \"http://localhost:8000\""
   ]
  },
  {
   "cell_type": "markdown",
   "id": "13b9411c",
   "metadata": {},
   "source": [
    "# Views Endpoint"
   ]
  },
  {
   "cell_type": "markdown",
   "id": "3b68ae4b",
   "metadata": {},
   "source": [
    "## Networth Endpoint"
   ]
  },
  {
   "cell_type": "code",
   "execution_count": 105,
   "id": "9fb0e86f",
   "metadata": {},
   "outputs": [
    {
     "name": "stdout",
     "output_type": "stream",
     "text": [
      "{'total_net_worth': 2746.25, 'type_breakdown': {'Savings': 2746.25}}\n"
     ]
    }
   ],
   "source": [
    "response = requests.get(f\"{BASE_URL}/networth\")\n",
    "print(response.json())"
   ]
  },
  {
   "cell_type": "markdown",
   "id": "0c668415",
   "metadata": {},
   "source": [
    "# Database Endpoint"
   ]
  },
  {
   "cell_type": "markdown",
   "id": "16e9fa1a",
   "metadata": {},
   "source": [
    "## Add Endpoint\n",
    "### Bank Endpoint"
   ]
  },
  {
   "cell_type": "code",
   "execution_count": 114,
   "id": "fbe0ba5c",
   "metadata": {},
   "outputs": [
    {
     "name": "stdout",
     "output_type": "stream",
     "text": [
      "{'message': 'Bank added successfully!'}\n"
     ]
    }
   ],
   "source": [
    "payload = {\n",
    "    \"entity\": \"bank\",\n",
    "    \"name\": \"DBS\",\n",
    "    \"country\": \"SG\",\n",
    "}\n",
    "response = requests.post(\n",
    "    url=f\"{BASE_URL}/add\",\n",
    "    json=payload\n",
    ")\n",
    "print(response.json())"
   ]
  },
  {
   "cell_type": "markdown",
   "id": "4c9c54e8",
   "metadata": {},
   "source": [
    "### Account Endpoint"
   ]
  },
  {
   "cell_type": "code",
   "execution_count": 115,
   "id": "1cf55525",
   "metadata": {},
   "outputs": [
    {
     "name": "stdout",
     "output_type": "stream",
     "text": [
      "{'message': 'Account added successfully!'}\n"
     ]
    }
   ],
   "source": [
    "payload = {\n",
    "    \"entity\": \"account\",\n",
    "    \"name\": \"DBS Multiplier\",\n",
    "    \"account_type\": \"savings\",\n",
    "    \"initial_balance\": 1000.0,\n",
    "    \"bank\": \"DBS\",\n",
    "}\n",
    "response = requests.post(\n",
    "    url=f\"{BASE_URL}/add\",\n",
    "    json=payload\n",
    ")\n",
    "print(response.json())"
   ]
  },
  {
   "cell_type": "markdown",
   "id": "bc74b83f",
   "metadata": {},
   "source": [
    "### Category Endpoint"
   ]
  },
  {
   "cell_type": "code",
   "execution_count": 118,
   "id": "5a24fb6e",
   "metadata": {},
   "outputs": [
    {
     "name": "stdout",
     "output_type": "stream",
     "text": [
      "{'message': 'Category added successfully!'}\n"
     ]
    }
   ],
   "source": [
    "payload = {\n",
    "    \"entity\": \"category\",\n",
    "    \"name\": \"Food\"\n",
    "}\n",
    "response = requests.post(\n",
    "    url=f\"{BASE_URL}/add\",\n",
    "    json=payload\n",
    ")\n",
    "print(response.json())"
   ]
  },
  {
   "cell_type": "markdown",
   "id": "22842dc1",
   "metadata": {},
   "source": [
    "### Transaction Endpoint"
   ]
  },
  {
   "cell_type": "code",
   "execution_count": 124,
   "id": "a642c891",
   "metadata": {},
   "outputs": [
    {
     "name": "stdout",
     "output_type": "stream",
     "text": [
      "{'message': 'Transaction added successfully!'}\n"
     ]
    }
   ],
   "source": [
    "payload = {\n",
    "    \"entity\": \"transaction\",\n",
    "    \"name\": \"Dinner\",\n",
    "    \"transaction_type\": \"Expense\",\n",
    "    \"amount\": 50.75,\n",
    "    \"date\": \"2023-10-01\",\n",
    "    \"category\": \"Food\",\n",
    "    \"account\": \"DBS Multiplier\"\n",
    "}\n",
    "response = requests.post(\n",
    "    url=f\"{BASE_URL}/add\",\n",
    "    json=payload\n",
    ")\n",
    "print(response.json())"
   ]
  },
  {
   "cell_type": "code",
   "execution_count": 125,
   "id": "3da55b5f",
   "metadata": {},
   "outputs": [
    {
     "name": "stdout",
     "output_type": "stream",
     "text": [
      "{'message': 'Transaction added successfully!'}\n"
     ]
    }
   ],
   "source": [
    "payload = {\n",
    "    \"entity\": \"transaction\",\n",
    "    \"name\": \"Salary\",\n",
    "    \"transaction_type\": \"Income\",\n",
    "    \"amount\": 2000,\n",
    "    \"date\": \"2023-10-01\",\n",
    "    \"category\": \"Salary\",\n",
    "    \"account\": \"DBS Multiplier\"\n",
    "}\n",
    "response = requests.post(\n",
    "    url=f\"{BASE_URL}/add\",\n",
    "    json=payload\n",
    ")\n",
    "print(response.json())"
   ]
  },
  {
   "cell_type": "markdown",
   "id": "3a509b06",
   "metadata": {},
   "source": [
    "### Recurring Transaction Endpoint"
   ]
  },
  {
   "cell_type": "code",
   "execution_count": 138,
   "id": "9f9319a8",
   "metadata": {},
   "outputs": [
    {
     "name": "stdout",
     "output_type": "stream",
     "text": [
      "{'detail': \"Recurring transaction 'Salary' already exists.\"}\n"
     ]
    }
   ],
   "source": [
    "payload = {\n",
    "    \"entity\": \"recurring_transaction\",\n",
    "    \"name\": \"Salary\",\n",
    "    \"transaction_type\": \"Income\",\n",
    "    \"amount\": 2000,\n",
    "    \"category\": \"Salary\",\n",
    "    \"account\": \"DBS Multiplier\"\n",
    "}\n",
    "response = requests.post(\n",
    "    url=f\"{BASE_URL}/add\",\n",
    "    json=payload\n",
    ")\n",
    "print(response.json())"
   ]
  },
  {
   "cell_type": "markdown",
   "id": "831b0582",
   "metadata": {},
   "source": [
    "## Add from recurring to transactions Endpoint"
   ]
  },
  {
   "cell_type": "code",
   "execution_count": 137,
   "id": "1c039926",
   "metadata": {},
   "outputs": [
    {
     "name": "stdout",
     "output_type": "stream",
     "text": [
      "{'message': 'Transaction added successfully from recurring transaction!'}\n"
     ]
    }
   ],
   "source": [
    "payload = {\n",
    "    \"recurring_transaction_id\": 1,\n",
    "    \"date\": \"2023-11-01\"\n",
    "}\n",
    "response = requests.post(\n",
    "    url=f\"{BASE_URL}/add_from_recurring\",\n",
    "    json=payload\n",
    ")\n",
    "print(response.json())"
   ]
  },
  {
   "cell_type": "markdown",
   "id": "0b4363af",
   "metadata": {},
   "source": [
    "## Delete Endpoint"
   ]
  },
  {
   "cell_type": "code",
   "execution_count": 104,
   "id": "9659759c",
   "metadata": {},
   "outputs": [
    {
     "name": "stdout",
     "output_type": "stream",
     "text": [
      "{'message': 'Deleted successfully!'}\n"
     ]
    }
   ],
   "source": [
    "payload = {\n",
    "    \"table\": \"transactions\",\n",
    "    \"id\": 13\n",
    "}\n",
    "response = requests.post(\n",
    "    url=f\"{BASE_URL}/delete\",\n",
    "    json=payload\n",
    ")\n",
    "print(response.json())"
   ]
  },
  {
   "cell_type": "code",
   "execution_count": null,
   "id": "e935dcfa",
   "metadata": {},
   "outputs": [],
   "source": []
  }
 ],
 "metadata": {
  "kernelspec": {
   "display_name": ".venv",
   "language": "python",
   "name": "python3"
  },
  "language_info": {
   "codemirror_mode": {
    "name": "ipython",
    "version": 3
   },
   "file_extension": ".py",
   "mimetype": "text/x-python",
   "name": "python",
   "nbconvert_exporter": "python",
   "pygments_lexer": "ipython3",
   "version": "3.10.9"
  }
 },
 "nbformat": 4,
 "nbformat_minor": 5
}
